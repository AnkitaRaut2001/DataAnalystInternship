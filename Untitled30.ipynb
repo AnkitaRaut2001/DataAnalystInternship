{
 "cells": [
  {
   "cell_type": "code",
   "execution_count": 2,
   "id": "748983cb-0e2c-4e48-bf4a-6ef0f09ab280",
   "metadata": {},
   "outputs": [],
   "source": [
    "import requests\n",
    "from bs4 import BeautifulSoup\n",
    "import pandas as pd"
   ]
  },
  {
   "cell_type": "code",
   "execution_count": 3,
   "id": "03e64590-e446-460a-ad4c-2247e4a784fc",
   "metadata": {},
   "outputs": [],
   "source": [
    "# URL of the website to scrape\n",
    "url = 'https://www.sulekha.com/technical-training/hyderabad'"
   ]
  },
  {
   "cell_type": "code",
   "execution_count": 5,
   "id": "71e98c52-7bc6-4ed4-ac42-0f9081c51f4c",
   "metadata": {},
   "outputs": [],
   "source": [
    "# Send a request to fetch the webpage content\n",
    "response = requests.get(url)\n"
   ]
  },
  {
   "cell_type": "code",
   "execution_count": 7,
   "id": "8202c4b3-4c68-415a-999e-37677de9187f",
   "metadata": {},
   "outputs": [],
   "source": [
    "soup = BeautifulSoup(response.text, 'html.parser')"
   ]
  },
  {
   "cell_type": "code",
   "execution_count": 8,
   "id": "6d723139-5423-48c1-a174-07398bc04b10",
   "metadata": {},
   "outputs": [],
   "source": [
    "# Extract data\n",
    "data = []\n",
    "for institute in soup.select('.listing-info'):\n",
    "    name = institute.select_one('.title').get_text(strip=True)\n",
    "    phone = institute.select_one('.contact-number').get_text(strip=True) if institute.select_one('.contact-number') else 'N/A'\n",
    "    email = 'N/A'  # Placeholder as email scraping may need additional steps\n",
    "    data.append([name, phone, email])"
   ]
  },
  {
   "cell_type": "code",
   "execution_count": 9,
   "id": "dc81cbe8-d0e2-49d8-b8d6-c077925ae713",
   "metadata": {},
   "outputs": [],
   "source": [
    "# Create a DataFrame to store the data\n",
    "df = pd.DataFrame(data, columns=['Institute Name', 'Phone Number', 'Email'])"
   ]
  },
  {
   "cell_type": "code",
   "execution_count": 10,
   "id": "29f83967-e439-48a5-8630-61c65c30d2ae",
   "metadata": {},
   "outputs": [
    {
     "name": "stdout",
     "output_type": "stream",
     "text": [
      "Data has been saved to 'hydrabad_technical_courses.csv'\n"
     ]
    }
   ],
   "source": [
    "# Save the data to a CSV file\n",
    "df.to_csv('hydrabad_technical_courses.csv', index=False)\n",
    "print(\"Data has been saved to 'hydrabad_technical_courses.csv'\")"
   ]
  },
  {
   "cell_type": "code",
   "execution_count": null,
   "id": "e585e932-3712-4bda-ad4a-473346e18b13",
   "metadata": {},
   "outputs": [],
   "source": []
  }
 ],
 "metadata": {
  "kernelspec": {
   "display_name": "Python 3 (ipykernel)",
   "language": "python",
   "name": "python3"
  },
  "language_info": {
   "codemirror_mode": {
    "name": "ipython",
    "version": 3
   },
   "file_extension": ".py",
   "mimetype": "text/x-python",
   "name": "python",
   "nbconvert_exporter": "python",
   "pygments_lexer": "ipython3",
   "version": "3.12.1"
  }
 },
 "nbformat": 4,
 "nbformat_minor": 5
}
