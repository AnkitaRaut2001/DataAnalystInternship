{
 "cells": [
  {
   "cell_type": "code",
   "execution_count": 1,
   "id": "56ce9d4e-290d-4eed-8cc3-5507da8df3fc",
   "metadata": {},
   "outputs": [],
   "source": [
    "import requests\n",
    "from bs4 import BeautifulSoup\n",
    "import pandas as pd\n",
    "import re\n",
    "import os\n"
   ]
  },
  {
   "cell_type": "code",
   "execution_count": 8,
   "id": "a6937c57-0f56-442f-9f8c-d6c518e1b071",
   "metadata": {},
   "outputs": [],
   "source": [
    "url = 'https://www.firstcry.com'\n",
    "response = requests.get(url)\n",
    "soup = BeautifulSoup(response.content, 'html.parser')\n"
   ]
  },
  {
   "cell_type": "code",
   "execution_count": 9,
   "id": "9e378c3f-aee1-43d0-a6f6-2ead9737dc1b",
   "metadata": {},
   "outputs": [],
   "source": [
    "text = soup.get_text()\n",
    "\n",
    "email_pattern = r'[a-zA-Z0-9._%+-]+@[a-zA-Z0-9.-]+\\.[a-zA-Z]{2,}'\n",
    "phone_pattern = r'\\b\\d{10}\\b'\n",
    "\n",
    "emails = re.findall(email_pattern, text)\n",
    "phones = re.findall(phone_pattern, text)\n",
    "\n",
    "emails = list(set(emails))\n",
    "phones = list(set(phones))\n",
    "\n",
    "data = {\n",
    "    'emails': emails,\n",
    "    'phones': phones\n",
    "}\n",
    "\n",
    "df = pd.DataFrame(data)\n"
   ]
  },
  {
   "cell_type": "code",
   "execution_count": 4,
   "id": "04a9e02e-0f04-4d7c-9e4d-6933948ad5c8",
   "metadata": {},
   "outputs": [
    {
     "name": "stdout",
     "output_type": "stream",
     "text": [
      "Data scraping completed successfully. File saved to C:\\Users\\Lenovo\\contact_data.csv\n"
     ]
    }
   ],
   "source": [
    "file_path = os.path.join(os.getcwd(), 'contact_data.csv')\n",
    "df.to_csv(file_path, index=False)\n",
    "\n",
    "print(f'Data scraping completed successfully. File saved to {file_path}')\n"
   ]
  },
  {
   "cell_type": "code",
   "execution_count": 5,
   "id": "e57535b0-e81d-4769-8bf0-1902af9fad05",
   "metadata": {},
   "outputs": [
    {
     "name": "stdout",
     "output_type": "stream",
     "text": [
      "Data scraping completed successfully. File saved to C:\\Users\\Lenovo\\contact_data_dynamic.csv\n"
     ]
    }
   ],
   "source": [
    "from selenium import webdriver\n",
    "from selenium.webdriver.common.by import By\n",
    "from selenium.webdriver.chrome.service import Service\n",
    "from webdriver_manager.chrome import ChromeDriverManager\n",
    "from bs4 import BeautifulSoup\n",
    "import pandas as pd\n",
    "import re\n",
    "import os\n",
    "\n",
    "driver = webdriver.Chrome(service=Service(ChromeDriverManager().install()))\n",
    "driver.get('https://www.firstcry.com')\n",
    "\n",
    "soup = BeautifulSoup(driver.page_source, 'html.parser')\n",
    "driver.quit()\n",
    "\n",
    "text = soup.get_text()\n",
    "\n",
    "email_pattern = r'[a-zA-Z0-9._%+-]+@[a-zA-Z0-9.-]+\\.[a-zA-Z]{2,}'\n",
    "phone_pattern = r'\\b\\d{10}\\b'\n",
    "\n",
    "emails = re.findall(email_pattern, text)\n",
    "phones = re.findall(phone_pattern, text)\n",
    "\n",
    "emails = list(set(emails))\n",
    "phones = list(set(phones))\n",
    "\n",
    "data = {\n",
    "    'emails': emails,\n",
    "    'phones': phones\n",
    "}\n",
    "\n",
    "df = pd.DataFrame(data)\n",
    "\n",
    "file_path = os.path.join(os.getcwd(), 'contact_data_dynamic.csv')\n",
    "df.to_csv(file_path, index=False)\n",
    "\n",
    "print(f'Data scraping completed successfully. File saved to {file_path}')\n"
   ]
  },
  {
   "cell_type": "code",
   "execution_count": null,
   "id": "314fd9b9-3c18-467f-9637-a8fecfdd5ee5",
   "metadata": {},
   "outputs": [],
   "source": []
  }
 ],
 "metadata": {
  "kernelspec": {
   "display_name": "Python 3 (ipykernel)",
   "language": "python",
   "name": "python3"
  },
  "language_info": {
   "codemirror_mode": {
    "name": "ipython",
    "version": 3
   },
   "file_extension": ".py",
   "mimetype": "text/x-python",
   "name": "python",
   "nbconvert_exporter": "python",
   "pygments_lexer": "ipython3",
   "version": "3.12.1"
  }
 },
 "nbformat": 4,
 "nbformat_minor": 5
}
